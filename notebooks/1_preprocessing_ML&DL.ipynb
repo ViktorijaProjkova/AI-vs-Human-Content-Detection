{
 "cells": [
  {
   "cell_type": "markdown",
   "id": "1238d898",
   "metadata": {},
   "source": [
    "# AI vs Human Content detection - Machine Learning & Deep Learning \n"
   ]
  },
  {
   "cell_type": "markdown",
   "id": "7af2ea1c",
   "metadata": {},
   "source": [
    "https://www.kaggle.com/datasets/pratyushpuri/ai-vs-human-content-detection-1000-record-in-2025 \n",
    "ova e datasetot od kaggle + description (kje gi trgneme ovie kjelii vo finalnite verzii, sega za sega da sledime kako sme sto sme do kaj sme )"
   ]
  },
  {
   "cell_type": "markdown",
   "id": "798886f6",
   "metadata": {},
   "source": [
    "# EDA and PREPROCESSING \n"
   ]
  },
  {
   "cell_type": "code",
   "execution_count": 68,
   "id": "1c537a25",
   "metadata": {},
   "outputs": [],
   "source": [
    "import pandas as pd\n",
    "import numpy as np\n",
    "import re, string, math\n",
    "from collections import Counter\n",
    "\n",
    "\n",
    "import matplotlib.pyplot as plt\n",
    "import seaborn as sns"
   ]
  },
  {
   "cell_type": "code",
   "execution_count": 69,
   "id": "35c81c66",
   "metadata": {},
   "outputs": [
    {
     "data": {
      "text/plain": [
       "pandas.core.frame.DataFrame"
      ]
     },
     "execution_count": 69,
     "metadata": {},
     "output_type": "execute_result"
    }
   ],
   "source": [
    "Data=pd.read_csv(\"../data/ai_human_content_detection_dataset.csv\")\n",
    "\n",
    "type(Data)"
   ]
  },
  {
   "cell_type": "code",
   "execution_count": 70,
   "id": "c6ccece7",
   "metadata": {},
   "outputs": [
    {
     "data": {
      "text/plain": [
       "(1367, 17)"
      ]
     },
     "execution_count": 70,
     "metadata": {},
     "output_type": "execute_result"
    }
   ],
   "source": [
    "Data.shape"
   ]
  },
  {
   "cell_type": "code",
   "execution_count": 71,
   "id": "1bda6d8f",
   "metadata": {},
   "outputs": [
    {
     "data": {
      "text/html": [
       "<div>\n",
       "<style scoped>\n",
       "    .dataframe tbody tr th:only-of-type {\n",
       "        vertical-align: middle;\n",
       "    }\n",
       "\n",
       "    .dataframe tbody tr th {\n",
       "        vertical-align: top;\n",
       "    }\n",
       "\n",
       "    .dataframe thead th {\n",
       "        text-align: right;\n",
       "    }\n",
       "</style>\n",
       "<table border=\"1\" class=\"dataframe\">\n",
       "  <thead>\n",
       "    <tr style=\"text-align: right;\">\n",
       "      <th></th>\n",
       "      <th>text_content</th>\n",
       "      <th>content_type</th>\n",
       "      <th>word_count</th>\n",
       "      <th>character_count</th>\n",
       "      <th>sentence_count</th>\n",
       "      <th>lexical_diversity</th>\n",
       "      <th>avg_sentence_length</th>\n",
       "      <th>avg_word_length</th>\n",
       "      <th>punctuation_ratio</th>\n",
       "      <th>flesch_reading_ease</th>\n",
       "      <th>gunning_fog_index</th>\n",
       "      <th>grammar_errors</th>\n",
       "      <th>passive_voice_ratio</th>\n",
       "      <th>predictability_score</th>\n",
       "      <th>burstiness</th>\n",
       "      <th>sentiment_score</th>\n",
       "      <th>label</th>\n",
       "    </tr>\n",
       "  </thead>\n",
       "  <tbody>\n",
       "    <tr>\n",
       "      <th>0</th>\n",
       "      <td>Score each cause. Quality throughout beautiful...</td>\n",
       "      <td>academic_paper</td>\n",
       "      <td>288</td>\n",
       "      <td>1927</td>\n",
       "      <td>54</td>\n",
       "      <td>0.9514</td>\n",
       "      <td>5.33</td>\n",
       "      <td>5.69</td>\n",
       "      <td>0.0280</td>\n",
       "      <td>53.08</td>\n",
       "      <td>7.41</td>\n",
       "      <td>1</td>\n",
       "      <td>0.1041</td>\n",
       "      <td>105.86</td>\n",
       "      <td>0.5531</td>\n",
       "      <td>0.2034</td>\n",
       "      <td>1</td>\n",
       "    </tr>\n",
       "    <tr>\n",
       "      <th>1</th>\n",
       "      <td>Board its rock. Job worker break tonight coupl...</td>\n",
       "      <td>essay</td>\n",
       "      <td>253</td>\n",
       "      <td>1719</td>\n",
       "      <td>45</td>\n",
       "      <td>0.9723</td>\n",
       "      <td>5.62</td>\n",
       "      <td>5.80</td>\n",
       "      <td>0.0262</td>\n",
       "      <td>50.32</td>\n",
       "      <td>8.10</td>\n",
       "      <td>6</td>\n",
       "      <td>0.2045</td>\n",
       "      <td>100.29</td>\n",
       "      <td>0.5643</td>\n",
       "      <td>0.4854</td>\n",
       "      <td>1</td>\n",
       "    </tr>\n",
       "    <tr>\n",
       "      <th>2</th>\n",
       "      <td>Way debate decision produce. Dream necessary c...</td>\n",
       "      <td>academic_paper</td>\n",
       "      <td>420</td>\n",
       "      <td>2849</td>\n",
       "      <td>75</td>\n",
       "      <td>0.9071</td>\n",
       "      <td>5.60</td>\n",
       "      <td>5.79</td>\n",
       "      <td>0.0263</td>\n",
       "      <td>46.86</td>\n",
       "      <td>7.86</td>\n",
       "      <td>5</td>\n",
       "      <td>0.2308</td>\n",
       "      <td>96.88</td>\n",
       "      <td>0.4979</td>\n",
       "      <td>-0.2369</td>\n",
       "      <td>1</td>\n",
       "    </tr>\n",
       "    <tr>\n",
       "      <th>3</th>\n",
       "      <td>Story turn because such during open model. Tha...</td>\n",
       "      <td>creative_writing</td>\n",
       "      <td>196</td>\n",
       "      <td>1310</td>\n",
       "      <td>34</td>\n",
       "      <td>0.9592</td>\n",
       "      <td>5.76</td>\n",
       "      <td>5.69</td>\n",
       "      <td>0.0260</td>\n",
       "      <td>53.80</td>\n",
       "      <td>7.00</td>\n",
       "      <td>2</td>\n",
       "      <td>0.1912</td>\n",
       "      <td>88.79</td>\n",
       "      <td>0.6241</td>\n",
       "      <td>NaN</td>\n",
       "      <td>1</td>\n",
       "    </tr>\n",
       "    <tr>\n",
       "      <th>4</th>\n",
       "      <td>Place specific as simply leader fall analysis....</td>\n",
       "      <td>news_article</td>\n",
       "      <td>160</td>\n",
       "      <td>1115</td>\n",
       "      <td>28</td>\n",
       "      <td>0.9688</td>\n",
       "      <td>5.71</td>\n",
       "      <td>5.97</td>\n",
       "      <td>0.0251</td>\n",
       "      <td>44.53</td>\n",
       "      <td>8.29</td>\n",
       "      <td>0</td>\n",
       "      <td>0.1318</td>\n",
       "      <td>26.15</td>\n",
       "      <td>0.2894</td>\n",
       "      <td>NaN</td>\n",
       "      <td>1</td>\n",
       "    </tr>\n",
       "  </tbody>\n",
       "</table>\n",
       "</div>"
      ],
      "text/plain": [
       "                                        text_content      content_type  \\\n",
       "0  Score each cause. Quality throughout beautiful...    academic_paper   \n",
       "1  Board its rock. Job worker break tonight coupl...             essay   \n",
       "2  Way debate decision produce. Dream necessary c...    academic_paper   \n",
       "3  Story turn because such during open model. Tha...  creative_writing   \n",
       "4  Place specific as simply leader fall analysis....      news_article   \n",
       "\n",
       "   word_count  character_count  sentence_count  lexical_diversity  \\\n",
       "0         288             1927              54             0.9514   \n",
       "1         253             1719              45             0.9723   \n",
       "2         420             2849              75             0.9071   \n",
       "3         196             1310              34             0.9592   \n",
       "4         160             1115              28             0.9688   \n",
       "\n",
       "   avg_sentence_length  avg_word_length  punctuation_ratio  \\\n",
       "0                 5.33             5.69             0.0280   \n",
       "1                 5.62             5.80             0.0262   \n",
       "2                 5.60             5.79             0.0263   \n",
       "3                 5.76             5.69             0.0260   \n",
       "4                 5.71             5.97             0.0251   \n",
       "\n",
       "   flesch_reading_ease  gunning_fog_index  grammar_errors  \\\n",
       "0                53.08               7.41               1   \n",
       "1                50.32               8.10               6   \n",
       "2                46.86               7.86               5   \n",
       "3                53.80               7.00               2   \n",
       "4                44.53               8.29               0   \n",
       "\n",
       "   passive_voice_ratio  predictability_score  burstiness  sentiment_score  \\\n",
       "0               0.1041                105.86      0.5531           0.2034   \n",
       "1               0.2045                100.29      0.5643           0.4854   \n",
       "2               0.2308                 96.88      0.4979          -0.2369   \n",
       "3               0.1912                 88.79      0.6241              NaN   \n",
       "4               0.1318                 26.15      0.2894              NaN   \n",
       "\n",
       "   label  \n",
       "0      1  \n",
       "1      1  \n",
       "2      1  \n",
       "3      1  \n",
       "4      1  "
      ]
     },
     "execution_count": 71,
     "metadata": {},
     "output_type": "execute_result"
    }
   ],
   "source": [
    "Data.head(5)"
   ]
  },
  {
   "cell_type": "code",
   "execution_count": 72,
   "id": "e998338b",
   "metadata": {},
   "outputs": [
    {
     "name": "stdout",
     "output_type": "stream",
     "text": [
      "<class 'pandas.core.frame.DataFrame'>\n",
      "RangeIndex: 1367 entries, 0 to 1366\n",
      "Data columns (total 17 columns):\n",
      " #   Column                Non-Null Count  Dtype  \n",
      "---  ------                --------------  -----  \n",
      " 0   text_content          1367 non-null   object \n",
      " 1   content_type          1367 non-null   object \n",
      " 2   word_count            1367 non-null   int64  \n",
      " 3   character_count       1367 non-null   int64  \n",
      " 4   sentence_count        1367 non-null   int64  \n",
      " 5   lexical_diversity     1367 non-null   float64\n",
      " 6   avg_sentence_length   1367 non-null   float64\n",
      " 7   avg_word_length       1367 non-null   float64\n",
      " 8   punctuation_ratio     1367 non-null   float64\n",
      " 9   flesch_reading_ease   1288 non-null   float64\n",
      " 10  gunning_fog_index     1332 non-null   float64\n",
      " 11  grammar_errors        1367 non-null   int64  \n",
      " 12  passive_voice_ratio   1336 non-null   float64\n",
      " 13  predictability_score  1367 non-null   float64\n",
      " 14  burstiness            1367 non-null   float64\n",
      " 15  sentiment_score       1313 non-null   float64\n",
      " 16  label                 1367 non-null   int64  \n",
      "dtypes: float64(10), int64(5), object(2)\n",
      "memory usage: 181.7+ KB\n"
     ]
    }
   ],
   "source": [
    "Data.info(verbose=True)"
   ]
  },
  {
   "cell_type": "code",
   "execution_count": 73,
   "id": "09b98e78",
   "metadata": {},
   "outputs": [
    {
     "data": {
      "text/plain": [
       "flesch_reading_ease     79\n",
       "sentiment_score         54\n",
       "gunning_fog_index       35\n",
       "passive_voice_ratio     31\n",
       "text_content             0\n",
       "content_type             0\n",
       "word_count               0\n",
       "character_count          0\n",
       "sentence_count           0\n",
       "punctuation_ratio        0\n",
       "avg_word_length          0\n",
       "avg_sentence_length      0\n",
       "lexical_diversity        0\n",
       "grammar_errors           0\n",
       "predictability_score     0\n",
       "burstiness               0\n",
       "label                    0\n",
       "dtype: int64"
      ]
     },
     "execution_count": 73,
     "metadata": {},
     "output_type": "execute_result"
    }
   ],
   "source": [
    "Data.isna().sum().sort_values(ascending=False)\n"
   ]
  },
  {
   "cell_type": "markdown",
   "id": "7212633a",
   "metadata": {},
   "source": [
    "najsafe opcija e da se napravi drop na redicite kaj sto ima missing values (najbitntie features ni se bez null).\n",
    "kje izgubime 79 reda, imame dosta primeroci, nema da izgubime mnogu "
   ]
  },
  {
   "cell_type": "code",
   "execution_count": 74,
   "id": "e8226691",
   "metadata": {},
   "outputs": [],
   "source": [
    "Data = Data.dropna()\n",
    "\n"
   ]
  },
  {
   "cell_type": "code",
   "execution_count": 75,
   "id": "570430c9",
   "metadata": {},
   "outputs": [
    {
     "data": {
      "text/plain": [
       "(1179, 17)"
      ]
     },
     "execution_count": 75,
     "metadata": {},
     "output_type": "execute_result"
    }
   ],
   "source": [
    "Data.shape"
   ]
  },
  {
   "cell_type": "code",
   "execution_count": 76,
   "id": "e66b4dd9",
   "metadata": {},
   "outputs": [
    {
     "name": "stdout",
     "output_type": "stream",
     "text": [
      "text_content            0\n",
      "content_type            0\n",
      "word_count              0\n",
      "character_count         0\n",
      "sentence_count          0\n",
      "lexical_diversity       0\n",
      "avg_sentence_length     0\n",
      "avg_word_length         0\n",
      "punctuation_ratio       0\n",
      "flesch_reading_ease     0\n",
      "gunning_fog_index       0\n",
      "grammar_errors          0\n",
      "passive_voice_ratio     0\n",
      "predictability_score    0\n",
      "burstiness              0\n",
      "sentiment_score         0\n",
      "label                   0\n",
      "dtype: int64\n"
     ]
    }
   ],
   "source": [
    "missing_values = Data.apply(lambda x: x.isnull().sum().sum())\n",
    "print(missing_values)\n"
   ]
  },
  {
   "cell_type": "code",
   "execution_count": 77,
   "id": "0dfd835a",
   "metadata": {},
   "outputs": [
    {
     "data": {
      "text/html": [
       "<div>\n",
       "<style scoped>\n",
       "    .dataframe tbody tr th:only-of-type {\n",
       "        vertical-align: middle;\n",
       "    }\n",
       "\n",
       "    .dataframe tbody tr th {\n",
       "        vertical-align: top;\n",
       "    }\n",
       "\n",
       "    .dataframe thead th {\n",
       "        text-align: right;\n",
       "    }\n",
       "</style>\n",
       "<table border=\"1\" class=\"dataframe\">\n",
       "  <thead>\n",
       "    <tr style=\"text-align: right;\">\n",
       "      <th></th>\n",
       "      <th>word_count</th>\n",
       "      <th>character_count</th>\n",
       "      <th>sentence_count</th>\n",
       "      <th>lexical_diversity</th>\n",
       "      <th>avg_sentence_length</th>\n",
       "      <th>avg_word_length</th>\n",
       "      <th>punctuation_ratio</th>\n",
       "      <th>flesch_reading_ease</th>\n",
       "      <th>gunning_fog_index</th>\n",
       "      <th>grammar_errors</th>\n",
       "      <th>passive_voice_ratio</th>\n",
       "      <th>predictability_score</th>\n",
       "      <th>burstiness</th>\n",
       "      <th>sentiment_score</th>\n",
       "      <th>label</th>\n",
       "    </tr>\n",
       "  </thead>\n",
       "  <tbody>\n",
       "    <tr>\n",
       "      <th>count</th>\n",
       "      <td>1179.00000</td>\n",
       "      <td>1179.000000</td>\n",
       "      <td>1179.000000</td>\n",
       "      <td>1179.000000</td>\n",
       "      <td>1179.000000</td>\n",
       "      <td>1179.000000</td>\n",
       "      <td>1179.000000</td>\n",
       "      <td>1179.000000</td>\n",
       "      <td>1179.000000</td>\n",
       "      <td>1179.000000</td>\n",
       "      <td>1179.000000</td>\n",
       "      <td>1179.000000</td>\n",
       "      <td>1179.000000</td>\n",
       "      <td>1179.000000</td>\n",
       "      <td>1179.000000</td>\n",
       "    </tr>\n",
       "    <tr>\n",
       "      <th>mean</th>\n",
       "      <td>140.09754</td>\n",
       "      <td>939.950806</td>\n",
       "      <td>25.575064</td>\n",
       "      <td>0.967592</td>\n",
       "      <td>5.492392</td>\n",
       "      <td>5.721349</td>\n",
       "      <td>0.027406</td>\n",
       "      <td>52.093079</td>\n",
       "      <td>7.557286</td>\n",
       "      <td>1.567430</td>\n",
       "      <td>0.149918</td>\n",
       "      <td>63.141077</td>\n",
       "      <td>0.427259</td>\n",
       "      <td>-0.002566</td>\n",
       "      <td>0.500424</td>\n",
       "    </tr>\n",
       "    <tr>\n",
       "      <th>std</th>\n",
       "      <td>98.36175</td>\n",
       "      <td>660.868244</td>\n",
       "      <td>18.057071</td>\n",
       "      <td>0.026207</td>\n",
       "      <td>0.452961</td>\n",
       "      <td>0.286955</td>\n",
       "      <td>0.002866</td>\n",
       "      <td>10.564724</td>\n",
       "      <td>1.865698</td>\n",
       "      <td>1.932518</td>\n",
       "      <td>0.056925</td>\n",
       "      <td>28.323529</td>\n",
       "      <td>0.199299</td>\n",
       "      <td>0.591635</td>\n",
       "      <td>0.500212</td>\n",
       "    </tr>\n",
       "    <tr>\n",
       "      <th>min</th>\n",
       "      <td>3.00000</td>\n",
       "      <td>14.000000</td>\n",
       "      <td>1.000000</td>\n",
       "      <td>0.875000</td>\n",
       "      <td>3.000000</td>\n",
       "      <td>4.000000</td>\n",
       "      <td>0.019400</td>\n",
       "      <td>-50.010000</td>\n",
       "      <td>1.200000</td>\n",
       "      <td>0.000000</td>\n",
       "      <td>0.050000</td>\n",
       "      <td>20.030000</td>\n",
       "      <td>0.101900</td>\n",
       "      <td>-0.999300</td>\n",
       "      <td>0.000000</td>\n",
       "    </tr>\n",
       "    <tr>\n",
       "      <th>25%</th>\n",
       "      <td>59.00000</td>\n",
       "      <td>400.500000</td>\n",
       "      <td>11.000000</td>\n",
       "      <td>0.951750</td>\n",
       "      <td>5.290000</td>\n",
       "      <td>5.590000</td>\n",
       "      <td>0.026100</td>\n",
       "      <td>47.660000</td>\n",
       "      <td>6.620000</td>\n",
       "      <td>0.000000</td>\n",
       "      <td>0.099150</td>\n",
       "      <td>39.290000</td>\n",
       "      <td>0.250600</td>\n",
       "      <td>-0.523950</td>\n",
       "      <td>0.000000</td>\n",
       "    </tr>\n",
       "    <tr>\n",
       "      <th>50%</th>\n",
       "      <td>130.00000</td>\n",
       "      <td>882.000000</td>\n",
       "      <td>24.000000</td>\n",
       "      <td>0.969100</td>\n",
       "      <td>5.490000</td>\n",
       "      <td>5.710000</td>\n",
       "      <td>0.027200</td>\n",
       "      <td>52.170000</td>\n",
       "      <td>7.510000</td>\n",
       "      <td>1.000000</td>\n",
       "      <td>0.150400</td>\n",
       "      <td>57.260000</td>\n",
       "      <td>0.413300</td>\n",
       "      <td>-0.006300</td>\n",
       "      <td>1.000000</td>\n",
       "    </tr>\n",
       "    <tr>\n",
       "      <th>75%</th>\n",
       "      <td>192.00000</td>\n",
       "      <td>1287.500000</td>\n",
       "      <td>35.000000</td>\n",
       "      <td>0.989000</td>\n",
       "      <td>5.700000</td>\n",
       "      <td>5.830000</td>\n",
       "      <td>0.028400</td>\n",
       "      <td>57.275000</td>\n",
       "      <td>8.395000</td>\n",
       "      <td>3.000000</td>\n",
       "      <td>0.200200</td>\n",
       "      <td>87.360000</td>\n",
       "      <td>0.592000</td>\n",
       "      <td>0.520600</td>\n",
       "      <td>1.000000</td>\n",
       "    </tr>\n",
       "    <tr>\n",
       "      <th>max</th>\n",
       "      <td>443.00000</td>\n",
       "      <td>2966.000000</td>\n",
       "      <td>83.000000</td>\n",
       "      <td>1.000000</td>\n",
       "      <td>8.000000</td>\n",
       "      <td>8.330000</td>\n",
       "      <td>0.071400</td>\n",
       "      <td>98.870000</td>\n",
       "      <td>27.870000</td>\n",
       "      <td>10.000000</td>\n",
       "      <td>0.250000</td>\n",
       "      <td>119.930000</td>\n",
       "      <td>0.798400</td>\n",
       "      <td>0.995900</td>\n",
       "      <td>1.000000</td>\n",
       "    </tr>\n",
       "  </tbody>\n",
       "</table>\n",
       "</div>"
      ],
      "text/plain": [
       "       word_count  character_count  sentence_count  lexical_diversity  \\\n",
       "count  1179.00000      1179.000000     1179.000000        1179.000000   \n",
       "mean    140.09754       939.950806       25.575064           0.967592   \n",
       "std      98.36175       660.868244       18.057071           0.026207   \n",
       "min       3.00000        14.000000        1.000000           0.875000   \n",
       "25%      59.00000       400.500000       11.000000           0.951750   \n",
       "50%     130.00000       882.000000       24.000000           0.969100   \n",
       "75%     192.00000      1287.500000       35.000000           0.989000   \n",
       "max     443.00000      2966.000000       83.000000           1.000000   \n",
       "\n",
       "       avg_sentence_length  avg_word_length  punctuation_ratio  \\\n",
       "count          1179.000000      1179.000000        1179.000000   \n",
       "mean              5.492392         5.721349           0.027406   \n",
       "std               0.452961         0.286955           0.002866   \n",
       "min               3.000000         4.000000           0.019400   \n",
       "25%               5.290000         5.590000           0.026100   \n",
       "50%               5.490000         5.710000           0.027200   \n",
       "75%               5.700000         5.830000           0.028400   \n",
       "max               8.000000         8.330000           0.071400   \n",
       "\n",
       "       flesch_reading_ease  gunning_fog_index  grammar_errors  \\\n",
       "count          1179.000000        1179.000000     1179.000000   \n",
       "mean             52.093079           7.557286        1.567430   \n",
       "std              10.564724           1.865698        1.932518   \n",
       "min             -50.010000           1.200000        0.000000   \n",
       "25%              47.660000           6.620000        0.000000   \n",
       "50%              52.170000           7.510000        1.000000   \n",
       "75%              57.275000           8.395000        3.000000   \n",
       "max              98.870000          27.870000       10.000000   \n",
       "\n",
       "       passive_voice_ratio  predictability_score   burstiness  \\\n",
       "count          1179.000000           1179.000000  1179.000000   \n",
       "mean              0.149918             63.141077     0.427259   \n",
       "std               0.056925             28.323529     0.199299   \n",
       "min               0.050000             20.030000     0.101900   \n",
       "25%               0.099150             39.290000     0.250600   \n",
       "50%               0.150400             57.260000     0.413300   \n",
       "75%               0.200200             87.360000     0.592000   \n",
       "max               0.250000            119.930000     0.798400   \n",
       "\n",
       "       sentiment_score        label  \n",
       "count      1179.000000  1179.000000  \n",
       "mean         -0.002566     0.500424  \n",
       "std           0.591635     0.500212  \n",
       "min          -0.999300     0.000000  \n",
       "25%          -0.523950     0.000000  \n",
       "50%          -0.006300     1.000000  \n",
       "75%           0.520600     1.000000  \n",
       "max           0.995900     1.000000  "
      ]
     },
     "execution_count": 77,
     "metadata": {},
     "output_type": "execute_result"
    }
   ],
   "source": [
    "Data.describe() "
   ]
  },
  {
   "cell_type": "markdown",
   "id": "355c5d6f",
   "metadata": {},
   "source": [
    "## 1. EDA"
   ]
  },
  {
   "cell_type": "markdown",
   "id": "49f57641",
   "metadata": {},
   "source": [
    "Analysing the data and creating different chars for better visualisation"
   ]
  },
  {
   "cell_type": "code",
   "execution_count": 78,
   "id": "16293b52",
   "metadata": {},
   "outputs": [
    {
     "data": {
      "image/png": "[encoded data removed]",
      "text/plain": [
       "<Figure size 1500x1000 with 16 Axes>"
      ]
     },
     "metadata": {},
     "output_type": "display_data"
    },
    {
     "data": {
      "image/png": "[encoded data removed]",
      "text/plain": [
       "<Figure size 1500x800 with 1 Axes>"
      ]
     },
     "metadata": {},
     "output_type": "display_data"
    },
    {
     "data": {
      "image/png": "[encoded data removed]",
      "text/plain": [
       "<Figure size 640x480 with 1 Axes>"
      ]
     },
     "metadata": {},
     "output_type": "display_data"
    }
   ],
   "source": [
    "# Histogram for all numerical features\n",
    "Data.hist(figsize=(15, 10))\n",
    "plt.tight_layout()\n",
    "plt.show()\n",
    "\n",
    "# Boxplot for all numerical features\n",
    "plt.figure(figsize=(15, 8))\n",
    "sns.boxplot(data=Data.select_dtypes(include='number'))\n",
    "plt.xticks(rotation=90)\n",
    "plt.show()\n",
    "\n",
    "# Bar plot for content_type\n",
    "sns.countplot(x='content_type', data=Data)\n",
    "plt.show()"
   ]
  },
  {
   "cell_type": "code",
   "execution_count": 79,
   "id": "643024db",
   "metadata": {},
   "outputs": [],
   "source": [
    "data_ml = Data.copy() \n",
    "data_dl = Data.copy()"
   ]
  },
  {
   "cell_type": "code",
   "execution_count": 80,
   "id": "726c67a9",
   "metadata": {},
   "outputs": [],
   "source": [
    "dummies = pd.get_dummies(data_ml[\"content_type\"], drop_first=False)\n",
    "dummies = dummies.add_prefix(\"encoded_\").astype(int)\n",
    "data_ml = pd.concat([data_ml.drop(columns=[\"content_type\"]), dummies], axis=1)"
   ]
  },
  {
   "cell_type": "code",
   "execution_count": 81,
   "id": "0a8495ed",
   "metadata": {},
   "outputs": [
    {
     "data": {
      "text/html": [
       "<div>\n",
       "<style scoped>\n",
       "    .dataframe tbody tr th:only-of-type {\n",
       "        vertical-align: middle;\n",
       "    }\n",
       "\n",
       "    .dataframe tbody tr th {\n",
       "        vertical-align: top;\n",
       "    }\n",
       "\n",
       "    .dataframe thead th {\n",
       "        text-align: right;\n",
       "    }\n",
       "</style>\n",
       "<table border=\"1\" class=\"dataframe\">\n",
       "  <thead>\n",
       "    <tr style=\"text-align: right;\">\n",
       "      <th></th>\n",
       "      <th>text_content</th>\n",
       "      <th>word_count</th>\n",
       "      <th>character_count</th>\n",
       "      <th>sentence_count</th>\n",
       "      <th>lexical_diversity</th>\n",
       "      <th>avg_sentence_length</th>\n",
       "      <th>avg_word_length</th>\n",
       "      <th>punctuation_ratio</th>\n",
       "      <th>flesch_reading_ease</th>\n",
       "      <th>gunning_fog_index</th>\n",
       "      <th>...</th>\n",
       "      <th>sentiment_score</th>\n",
       "      <th>label</th>\n",
       "      <th>encoded_academic_paper</th>\n",
       "      <th>encoded_article</th>\n",
       "      <th>encoded_blog_post</th>\n",
       "      <th>encoded_creative_writing</th>\n",
       "      <th>encoded_essay</th>\n",
       "      <th>encoded_news_article</th>\n",
       "      <th>encoded_product_review</th>\n",
       "      <th>encoded_social_media</th>\n",
       "    </tr>\n",
       "  </thead>\n",
       "  <tbody>\n",
       "    <tr>\n",
       "      <th>0</th>\n",
       "      <td>Score each cause. Quality throughout beautiful...</td>\n",
       "      <td>288</td>\n",
       "      <td>1927</td>\n",
       "      <td>54</td>\n",
       "      <td>0.9514</td>\n",
       "      <td>5.33</td>\n",
       "      <td>5.69</td>\n",
       "      <td>0.0280</td>\n",
       "      <td>53.08</td>\n",
       "      <td>7.41</td>\n",
       "      <td>...</td>\n",
       "      <td>0.2034</td>\n",
       "      <td>1</td>\n",
       "      <td>1</td>\n",
       "      <td>0</td>\n",
       "      <td>0</td>\n",
       "      <td>0</td>\n",
       "      <td>0</td>\n",
       "      <td>0</td>\n",
       "      <td>0</td>\n",
       "      <td>0</td>\n",
       "    </tr>\n",
       "    <tr>\n",
       "      <th>1</th>\n",
       "      <td>Board its rock. Job worker break tonight coupl...</td>\n",
       "      <td>253</td>\n",
       "      <td>1719</td>\n",
       "      <td>45</td>\n",
       "      <td>0.9723</td>\n",
       "      <td>5.62</td>\n",
       "      <td>5.80</td>\n",
       "      <td>0.0262</td>\n",
       "      <td>50.32</td>\n",
       "      <td>8.10</td>\n",
       "      <td>...</td>\n",
       "      <td>0.4854</td>\n",
       "      <td>1</td>\n",
       "      <td>0</td>\n",
       "      <td>0</td>\n",
       "      <td>0</td>\n",
       "      <td>0</td>\n",
       "      <td>1</td>\n",
       "      <td>0</td>\n",
       "      <td>0</td>\n",
       "      <td>0</td>\n",
       "    </tr>\n",
       "    <tr>\n",
       "      <th>2</th>\n",
       "      <td>Way debate decision produce. Dream necessary c...</td>\n",
       "      <td>420</td>\n",
       "      <td>2849</td>\n",
       "      <td>75</td>\n",
       "      <td>0.9071</td>\n",
       "      <td>5.60</td>\n",
       "      <td>5.79</td>\n",
       "      <td>0.0263</td>\n",
       "      <td>46.86</td>\n",
       "      <td>7.86</td>\n",
       "      <td>...</td>\n",
       "      <td>-0.2369</td>\n",
       "      <td>1</td>\n",
       "      <td>1</td>\n",
       "      <td>0</td>\n",
       "      <td>0</td>\n",
       "      <td>0</td>\n",
       "      <td>0</td>\n",
       "      <td>0</td>\n",
       "      <td>0</td>\n",
       "      <td>0</td>\n",
       "    </tr>\n",
       "  </tbody>\n",
       "</table>\n",
       "<p>3 rows × 24 columns</p>\n",
       "</div>"
      ],
      "text/plain": [
       "                                        text_content  word_count  \\\n",
       "0  Score each cause. Quality throughout beautiful...         288   \n",
       "1  Board its rock. Job worker break tonight coupl...         253   \n",
       "2  Way debate decision produce. Dream necessary c...         420   \n",
       "\n",
       "   character_count  sentence_count  lexical_diversity  avg_sentence_length  \\\n",
       "0             1927              54             0.9514                 5.33   \n",
       "1             1719              45             0.9723                 5.62   \n",
       "2             2849              75             0.9071                 5.60   \n",
       "\n",
       "   avg_word_length  punctuation_ratio  flesch_reading_ease  gunning_fog_index  \\\n",
       "0             5.69             0.0280                53.08               7.41   \n",
       "1             5.80             0.0262                50.32               8.10   \n",
       "2             5.79             0.0263                46.86               7.86   \n",
       "\n",
       "   ...  sentiment_score  label  encoded_academic_paper  encoded_article  \\\n",
       "0  ...           0.2034      1                       1                0   \n",
       "1  ...           0.4854      1                       0                0   \n",
       "2  ...          -0.2369      1                       1                0   \n",
       "\n",
       "   encoded_blog_post  encoded_creative_writing  encoded_essay  \\\n",
       "0                  0                         0              0   \n",
       "1                  0                         0              1   \n",
       "2                  0                         0              0   \n",
       "\n",
       "   encoded_news_article  encoded_product_review  encoded_social_media  \n",
       "0                     0                       0                     0  \n",
       "1                     0                       0                     0  \n",
       "2                     0                       0                     0  \n",
       "\n",
       "[3 rows x 24 columns]"
      ]
     },
     "execution_count": 81,
     "metadata": {},
     "output_type": "execute_result"
    }
   ],
   "source": [
    "data_ml.head(3)"
   ]
  },
  {
   "cell_type": "markdown",
   "id": "2a9c0705",
   "metadata": {},
   "source": [
    "## ML PREPROCESSING"
   ]
  },
  {
   "cell_type": "markdown",
   "id": "e38a0ff7",
   "metadata": {},
   "source": [
    "kje odime so tfidf za ml modelite da se pojaki i podobro sporedlivi so dl modelite (Sepak e analiza na tekst, a ako mu gi dademe na ml samo numerickite features, nema da bide dobar modelot)\n",
    "\n",
    "znaci tuka go podgotvuvam datasetov za treniranje"
   ]
  },
  {
   "cell_type": "code",
   "execution_count": 82,
   "id": "1ccfa8f2",
   "metadata": {},
   "outputs": [],
   "source": [
    "import pandas as pd\n",
    "import numpy as np\n",
    "from sklearn.feature_extraction.text import TfidfVectorizer\n",
    "from sklearn.preprocessing import StandardScaler\n",
    "from sklearn.compose import ColumnTransformer\n",
    "from sklearn.pipeline import Pipeline\n",
    "from scipy import sparse\n",
    "import joblib\n",
    "import re"
   ]
  },
  {
   "cell_type": "code",
   "execution_count": 83,
   "id": "fb2c9988",
   "metadata": {},
   "outputs": [],
   "source": [
    "text_col = \"text_content\"\n",
    "\n",
    "numeric_cols = [\n",
    "    \"word_count\",\"character_count\",\t\"sentence_count\",\"lexical_diversity\",\"avg_sentence_length\",\t\"avg_word_length\",\n",
    "    \"punctuation_ratio\",\"flesch_reading_ease\",\"gunning_fog_index\", \"grammar_errors\"\t,\"passive_voice_ratio\",\"predictability_score\",\n",
    "    \"burstiness\",\"sentiment_score\"\n",
    "\n",
    "]\n",
    "\n",
    "#one hot encoded cols\n",
    "ohe_cols = [c for c in data_ml.columns if c.startswith(\"encoded_\")]\n",
    "\n"
   ]
  },
  {
   "cell_type": "code",
   "execution_count": 84,
   "id": "344e9079",
   "metadata": {},
   "outputs": [],
   "source": [
    "#Define transformers\n",
    "tfidf = TfidfVectorizer(\n",
    "    ngram_range=(1,2),\n",
    "    max_df=0.9,\n",
    "    min_df=2,\n",
    "    max_features=10000,   # tune if needed\n",
    "    strip_accents=\"unicode\",\n",
    "    lowercase=True\n",
    ")\n",
    "\n",
    "scaler = StandardScaler(with_mean=False)  # keep sparse compatibility  (ova si ide so tfidf, zatoa posebno ne se pravi standardizacija)"
   ]
  },
  {
   "cell_type": "code",
   "execution_count": 85,
   "id": "37e34d9a",
   "metadata": {},
   "outputs": [],
   "source": [
    "#column transformer \n",
    "\n",
    "transformer = ColumnTransformer(\n",
    "    transformers=[\n",
    "        (\"tfidf\", tfidf, text_col),\n",
    "        (\"num\", scaler, numeric_cols),\n",
    "        (\"ohe_passthrough\", \"passthrough\", ohe_cols)  # harmless if empty\n",
    "    ],\n",
    "    remainder=\"drop\",\n",
    "    sparse_threshold=0.3   # keep sparse output\n",
    ")"
   ]
  },
  {
   "cell_type": "code",
   "execution_count": 86,
   "id": "d19eed50",
   "metadata": {},
   "outputs": [],
   "source": [
    "# Build pipeline\n",
    "preprocess = Pipeline([\n",
    "    (\"ct\", transformer)\n",
    "])"
   ]
  },
  {
   "cell_type": "code",
   "execution_count": 87,
   "id": "2dfb4158",
   "metadata": {},
   "outputs": [
    {
     "name": "stdout",
     "output_type": "stream",
     "text": [
      "(1179, 10022)\n"
     ]
    }
   ],
   "source": [
    "X = preprocess.fit_transform(data_ml)\n",
    "\n",
    "print(X.shape)"
   ]
  },
  {
   "cell_type": "code",
   "execution_count": 88,
   "id": "de883fe6",
   "metadata": {},
   "outputs": [
    {
     "name": "stdout",
     "output_type": "stream",
     "text": [
      "['ability' 'ability little' 'ability live' 'ability policy'\n",
      " 'ability practice' 'ability question' 'ability simple' 'ability there'\n",
      " 'ability those' 'ability threat' 'ability wide' 'ability work' 'able'\n",
      " 'able alone' 'able although' 'able author' 'able crime' 'able figure'\n",
      " 'able great' 'able in']\n"
     ]
    }
   ],
   "source": [
    "# ColumnTransformer from the pipeline\n",
    "ct = preprocess.named_steps[\"ct\"]\n",
    "\n",
    "# TfidfVectorizer \n",
    "tfidf_v = ct.named_transformers_[\"tfidf\"]\n",
    "\n",
    "tfidf_tokens = tfidf_v.get_feature_names_out()\n",
    "print(tfidf_tokens[:20])\n"
   ]
  },
  {
   "cell_type": "code",
   "execution_count": 89,
   "id": "01f0e96c",
   "metadata": {},
   "outputs": [
    {
     "name": "stdout",
     "output_type": "stream",
     "text": [
      "(943, 9165) (236, 9165)\n"
     ]
    }
   ],
   "source": [
    "# splitting for test and train\n",
    "\n",
    "from sklearn.model_selection import train_test_split\n",
    "\n",
    "y = data_ml[\"label\"]    \n",
    "\n",
    "X = data_ml.drop(columns=[\"label\"]) \n",
    "\n",
    "X_train_df, X_test_df, y_train, y_test = train_test_split(\n",
    "    data_ml, y, test_size=0.2, stratify=y, random_state=42\n",
    ")\n",
    "\n",
    "preprocess.fit(X_train_df)\n",
    "X_train = preprocess.transform(X_train_df)\n",
    "X_test  = preprocess.transform(X_test_df)\n",
    "\n",
    "print(X_train.shape, X_test.shape)\n"
   ]
  },
  {
   "cell_type": "markdown",
   "id": "8134df82",
   "metadata": {},
   "source": [
    "80% so 20% e splitot\n"
   ]
  },
  {
   "cell_type": "code",
   "execution_count": 90,
   "id": "586630e2",
   "metadata": {},
   "outputs": [],
   "source": [
    "#saving the X_train, X_test, y_train, y_test and pipeline for training \n",
    "\n",
    "import joblib\n",
    "from scipy import sparse\n",
    "import pandas as pd\n",
    "\n",
    "# Save pipeline\n",
    "joblib.dump(preprocess, \"preprocess_pipeline.joblib\")\n",
    "\n",
    "# Save matrices (sparse)\n",
    "sparse.save_npz(\"X_train.npz\", X_train)\n",
    "sparse.save_npz(\"X_test.npz\", X_test)\n",
    "\n",
    "# Save labels\n",
    "pd.Series(y_train).to_csv(\"y_train.csv\", index=False)\n",
    "pd.Series(y_test).to_csv(\"y_test.csv\", index=False)\n"
   ]
  },
  {
   "cell_type": "markdown",
   "id": "6397f811",
   "metadata": {},
   "source": [
    "# DL PREPOCESSING "
   ]
  },
  {
   "cell_type": "code",
   "execution_count": 91,
   "id": "5b530522",
   "metadata": {},
   "outputs": [
    {
     "name": "stdout",
     "output_type": "stream",
     "text": [
      "[1 1 1 1 1 1 1 1 1 1]\n"
     ]
    }
   ],
   "source": [
    "y_dl = data_dl[\"label\"].values\n",
    "X_features = data_dl.drop(columns=[\"label\"])\n",
    "print( y_dl[:10])"
   ]
  },
  {
   "cell_type": "code",
   "execution_count": 92,
   "id": "d2176bf3",
   "metadata": {},
   "outputs": [],
   "source": [
    "#test train split on raw features\n",
    "from sklearn.model_selection import train_test_split\n",
    "\n",
    "X_train_dl, X_test_dl, y_train_dl, y_test_dl = train_test_split(\n",
    "    X_features, y_dl, test_size=0.2, stratify=y_dl, random_state=42\n",
    ")"
   ]
  },
  {
   "cell_type": "code",
   "execution_count": 93,
   "id": "226113a3",
   "metadata": {},
   "outputs": [
    {
     "data": {
      "text/plain": [
       "(943, 16)"
      ]
     },
     "execution_count": 93,
     "metadata": {},
     "output_type": "execute_result"
    }
   ],
   "source": [
    "X_train_dl.shape\n"
   ]
  },
  {
   "cell_type": "code",
   "execution_count": 94,
   "id": "a8cbec1d",
   "metadata": {},
   "outputs": [
    {
     "data": {
      "text/plain": [
       "(236, 16)"
      ]
     },
     "execution_count": 94,
     "metadata": {},
     "output_type": "execute_result"
    }
   ],
   "source": [
    "X_test_dl.shape"
   ]
  },
  {
   "cell_type": "markdown",
   "id": "1269350f",
   "metadata": {},
   "source": [
    "Deep learning models cannot use raw text, so we convert each document into a sequence of numbers. We do this with tokenization (each word is assigned an index) and padding (all sequences have the same length).\n",
    "    \n",
    "Tokenizer: builds a vocabulary of the most frequent words in the dataset.\n",
    "\n",
    "Sequences: each text becomes a list of integers (IDs of words).\n",
    "\n",
    "Padding: ensures equal length, so that texts can be batched into the model."
   ]
  },
  {
   "cell_type": "code",
   "execution_count": 95,
   "id": "9563f74d",
   "metadata": {},
   "outputs": [
    {
     "name": "stdout",
     "output_type": "stream",
     "text": [
      "Requirement already satisfied: tensorflow in c:\\users\\lenovo\\appdata\\local\\programs\\python\\python310\\lib\\site-packages (2.20.0)\n",
      "Requirement already satisfied: typing_extensions>=3.6.6 in c:\\users\\lenovo\\appdata\\roaming\\python\\python310\\site-packages (from tensorflow) (4.14.1)\n",
      "Requirement already satisfied: google_pasta>=0.1.1 in c:\\users\\lenovo\\appdata\\local\\programs\\python\\python310\\lib\\site-packages (from tensorflow) (0.2.0)\n",
      "Requirement already satisfied: termcolor>=1.1.0 in c:\\users\\lenovo\\appdata\\local\\programs\\python\\python310\\lib\\site-packages (from tensorflow) (3.1.0)\n",
      "Requirement already satisfied: absl-py>=1.0.0 in c:\\users\\lenovo\\appdata\\local\\programs\\python\\python310\\lib\\site-packages (from tensorflow) (2.3.1)\n",
      "Requirement already satisfied: grpcio<2.0,>=1.24.3 in c:\\users\\lenovo\\appdata\\local\\programs\\python\\python310\\lib\\site-packages (from tensorflow) (1.74.0)\n",
      "Requirement already satisfied: h5py>=3.11.0 in c:\\users\\lenovo\\appdata\\local\\programs\\python\\python310\\lib\\site-packages (from tensorflow) (3.14.0)\n",
      "Requirement already satisfied: six>=1.12.0 in c:\\users\\lenovo\\appdata\\roaming\\python\\python310\\site-packages (from tensorflow) (1.17.0)\n",
      "Requirement already satisfied: gast!=0.5.0,!=0.5.1,!=0.5.2,>=0.2.1 in c:\\users\\lenovo\\appdata\\local\\programs\\python\\python310\\lib\\site-packages (from tensorflow) (0.6.0)\n",
      "Requirement already satisfied: flatbuffers>=24.3.25 in c:\\users\\lenovo\\appdata\\local\\programs\\python\\python310\\lib\\site-packages (from tensorflow) (25.2.10)\n",
      "Requirement already satisfied: setuptools in c:\\users\\lenovo\\appdata\\local\\programs\\python\\python310\\lib\\site-packages (from tensorflow) (57.4.0)\n",
      "Requirement already satisfied: protobuf>=5.28.0 in c:\\users\\lenovo\\appdata\\local\\programs\\python\\python310\\lib\\site-packages (from tensorflow) (6.32.0)\n",
      "Requirement already satisfied: libclang>=13.0.0 in c:\\users\\lenovo\\appdata\\local\\programs\\python\\python310\\lib\\site-packages (from tensorflow) (18.1.1)\n",
      "Requirement already satisfied: ml_dtypes<1.0.0,>=0.5.1 in c:\\users\\lenovo\\appdata\\local\\programs\\python\\python310\\lib\\site-packages (from tensorflow) (0.5.3)\n",
      "Requirement already satisfied: requests<3,>=2.21.0 in c:\\users\\lenovo\\appdata\\local\\programs\\python\\python310\\lib\\site-packages (from tensorflow) (2.32.5)\n",
      "Requirement already satisfied: wrapt>=1.11.0 in c:\\users\\lenovo\\appdata\\local\\programs\\python\\python310\\lib\\site-packages (from tensorflow) (1.17.3)\n",
      "Requirement already satisfied: astunparse>=1.6.0 in c:\\users\\lenovo\\appdata\\local\\programs\\python\\python310\\lib\\site-packages (from tensorflow) (1.6.3)\n",
      "Requirement already satisfied: opt_einsum>=2.3.2 in c:\\users\\lenovo\\appdata\\local\\programs\\python\\python310\\lib\\site-packages (from tensorflow) (3.4.0)\n",
      "Requirement already satisfied: keras>=3.10.0 in c:\\users\\lenovo\\appdata\\local\\programs\\python\\python310\\lib\\site-packages (from tensorflow) (3.11.3)\n",
      "Requirement already satisfied: tensorboard~=2.20.0 in c:\\users\\lenovo\\appdata\\local\\programs\\python\\python310\\lib\\site-packages (from tensorflow) (2.20.0)\n",
      "Requirement already satisfied: packaging in c:\\users\\lenovo\\appdata\\roaming\\python\\python310\\site-packages (from tensorflow) (25.0)\n",
      "Requirement already satisfied: numpy>=1.26.0 in c:\\users\\lenovo\\appdata\\local\\programs\\python\\python310\\lib\\site-packages (from tensorflow) (2.2.6)\n",
      "Requirement already satisfied: wheel<1.0,>=0.23.0 in c:\\users\\lenovo\\appdata\\local\\programs\\python\\python310\\lib\\site-packages (from astunparse>=1.6.0->tensorflow) (0.45.1)\n",
      "Requirement already satisfied: namex in c:\\users\\lenovo\\appdata\\local\\programs\\python\\python310\\lib\\site-packages (from keras>=3.10.0->tensorflow) (0.1.0)\n",
      "Requirement already satisfied: optree in c:\\users\\lenovo\\appdata\\local\\programs\\python\\python310\\lib\\site-packages (from keras>=3.10.0->tensorflow) (0.17.0)\n",
      "Requirement already satisfied: rich in c:\\users\\lenovo\\appdata\\local\\programs\\python\\python310\\lib\\site-packages (from keras>=3.10.0->tensorflow) (14.1.0)\n",
      "Requirement already satisfied: charset_normalizer<4,>=2 in c:\\users\\lenovo\\appdata\\local\\programs\\python\\python310\\lib\\site-packages (from requests<3,>=2.21.0->tensorflow) (3.4.3)\n",
      "Requirement already satisfied: idna<4,>=2.5 in c:\\users\\lenovo\\appdata\\local\\programs\\python\\python310\\lib\\site-packages (from requests<3,>=2.21.0->tensorflow) (3.10)\n",
      "Requirement already satisfied: certifi>=2017.4.17 in c:\\users\\lenovo\\appdata\\local\\programs\\python\\python310\\lib\\site-packages (from requests<3,>=2.21.0->tensorflow) (2025.8.3)\n",
      "Requirement already satisfied: urllib3<3,>=1.21.1 in c:\\users\\lenovo\\appdata\\local\\programs\\python\\python310\\lib\\site-packages (from requests<3,>=2.21.0->tensorflow) (2.5.0)\n",
      "Requirement already satisfied: tensorboard-data-server<0.8.0,>=0.7.0 in c:\\users\\lenovo\\appdata\\local\\programs\\python\\python310\\lib\\site-packages (from tensorboard~=2.20.0->tensorflow) (0.7.2)\n",
      "Requirement already satisfied: pillow in c:\\users\\lenovo\\appdata\\local\\programs\\python\\python310\\lib\\site-packages (from tensorboard~=2.20.0->tensorflow) (11.3.0)\n",
      "Requirement already satisfied: werkzeug>=1.0.1 in c:\\users\\lenovo\\appdata\\local\\programs\\python\\python310\\lib\\site-packages (from tensorboard~=2.20.0->tensorflow) (3.1.3)\n",
      "Requirement already satisfied: markdown>=2.6.8 in c:\\users\\lenovo\\appdata\\local\\programs\\python\\python310\\lib\\site-packages (from tensorboard~=2.20.0->tensorflow) (3.8.2)\n",
      "Requirement already satisfied: MarkupSafe>=2.1.1 in c:\\users\\lenovo\\appdata\\local\\programs\\python\\python310\\lib\\site-packages (from werkzeug>=1.0.1->tensorboard~=2.20.0->tensorflow) (3.0.2)\n",
      "Requirement already satisfied: markdown-it-py>=2.2.0 in c:\\users\\lenovo\\appdata\\local\\programs\\python\\python310\\lib\\site-packages (from rich->keras>=3.10.0->tensorflow) (4.0.0)\n",
      "Requirement already satisfied: pygments<3.0.0,>=2.13.0 in c:\\users\\lenovo\\appdata\\roaming\\python\\python310\\site-packages (from rich->keras>=3.10.0->tensorflow) (2.19.2)\n",
      "Requirement already satisfied: mdurl~=0.1 in c:\\users\\lenovo\\appdata\\local\\programs\\python\\python310\\lib\\site-packages (from markdown-it-py>=2.2.0->rich->keras>=3.10.0->tensorflow) (0.1.2)\n",
      "Note: you may need to restart the kernel to use updated packages.\n"
     ]
    },
    {
     "name": "stderr",
     "output_type": "stream",
     "text": [
      "WARNING: You are using pip version 21.2.3; however, version 25.2 is available.\n",
      "You should consider upgrading via the 'c:\\Users\\Lenovo\\AppData\\Local\\Programs\\Python\\Python310\\python.exe -m pip install --upgrade pip' command.\n"
     ]
    }
   ],
   "source": [
    "%pip install tensorflow\n"
   ]
  },
  {
   "cell_type": "code",
   "execution_count": 96,
   "id": "d2a68cfe",
   "metadata": {},
   "outputs": [],
   "source": [
    "# text (tokenize+pad) fit on TRAIN only\n",
    "\n",
    "from tensorflow.keras.preprocessing.text import Tokenizer\n",
    "from tensorflow.keras.preprocessing.sequence import pad_sequences\n",
    "\n",
    "MAX_WORDS = 20000\n",
    "MAX_LEN = 300\n",
    "\n",
    "tokenizer_dl = Tokenizer(num_words=MAX_WORDS, oov_token=\"<OOV>\")\n",
    "tokenizer_dl.fit_on_texts(X_train_dl[\"text_content\"])\n",
    "\n",
    "X_text_train = pad_sequences(\n",
    "    tokenizer_dl.texts_to_sequences(X_train_dl[\"text_content\"]),\n",
    "    maxlen=MAX_LEN, padding=\"post\", truncating=\"post\"\n",
    ")\n",
    "X_text_test = pad_sequences(\n",
    "    tokenizer_dl.texts_to_sequences(X_test_dl[\"text_content\"]),\n",
    "    maxlen=MAX_LEN, padding=\"post\", truncating=\"post\"\n",
    ")"
   ]
  },
  {
   "cell_type": "code",
   "execution_count": 97,
   "id": "05410952",
   "metadata": {},
   "outputs": [
    {
     "data": {
      "text/plain": [
       "(943, 300)"
      ]
     },
     "execution_count": 97,
     "metadata": {},
     "output_type": "execute_result"
    }
   ],
   "source": [
    "X_text_train.shape"
   ]
  },
  {
   "cell_type": "code",
   "execution_count": 98,
   "id": "503b153b",
   "metadata": {},
   "outputs": [
    {
     "data": {
      "text/plain": [
       "(236, 300)"
      ]
     },
     "execution_count": 98,
     "metadata": {},
     "output_type": "execute_result"
    }
   ],
   "source": [
    "X_text_test.shape"
   ]
  },
  {
   "cell_type": "code",
   "execution_count": 99,
   "id": "586ee830",
   "metadata": {},
   "outputs": [],
   "source": [
    "from sklearn.preprocessing import StandardScaler\n",
    "\n",
    "#standardizing num features (on TRAIN only)\n",
    "\n",
    "num_cols = [ \"word_count\",\"character_count\",\t\"sentence_count\",\"lexical_diversity\",\"avg_sentence_length\",\t\"avg_word_length\",\n",
    "    \"punctuation_ratio\",\"flesch_reading_ease\",\"gunning_fog_index\", \"grammar_errors\"\t,\"passive_voice_ratio\",\"predictability_score\",\n",
    "    \"burstiness\",\"sentiment_score\"\n",
    "]\n",
    "num_cols = [c for c in num_cols if c in X_features.columns]\n",
    "\n",
    "scaler_dl = StandardScaler()\n",
    "X_num_train = scaler_dl.fit_transform(X_train_dl[num_cols])\n",
    "X_num_test  = scaler_dl.transform(X_test_dl[num_cols])\n"
   ]
  },
  {
   "cell_type": "code",
   "execution_count": 101,
   "id": "f43d5771",
   "metadata": {},
   "outputs": [],
   "source": [
    "#one hot encoded data\n",
    "\n",
    "encoded_cols = [\n",
    "    \"encoded_academic_paper\",\"encoded_article\",\"encoded_blog_post\",\n",
    "    \"encoded_creative_writing\",\"encoded_essay\",\"encoded_news_article\",\n",
    "    \"encoded_product_review\",\"encoded_social_media\"\n",
    "]\n",
    "X_encoded_train = X_train_df[encoded_cols].values\n",
    "X_encoded_test  = X_test_df[encoded_cols].values"
   ]
  },
  {
   "cell_type": "code",
   "execution_count": 102,
   "id": "8734a7f4",
   "metadata": {},
   "outputs": [
    {
     "data": {
      "text/plain": [
       "(943, 8)"
      ]
     },
     "execution_count": 102,
     "metadata": {},
     "output_type": "execute_result"
    }
   ],
   "source": [
    "X_encoded_train.shape"
   ]
  },
  {
   "cell_type": "code",
   "execution_count": 103,
   "id": "305c543b",
   "metadata": {},
   "outputs": [
    {
     "data": {
      "text/plain": [
       "(236, 8)"
      ]
     },
     "execution_count": 103,
     "metadata": {},
     "output_type": "execute_result"
    }
   ],
   "source": [
    "X_encoded_test.shape"
   ]
  },
  {
   "cell_type": "code",
   "execution_count": 104,
   "id": "1e7319f9",
   "metadata": {},
   "outputs": [],
   "source": [
    "#saving\n",
    "\n",
    "np.save(\"X_text_train_dl.npy\", X_text_train)\n",
    "np.save(\"X_text_test_dl.npy\",  X_text_test)\n",
    "np.save(\"X_num_train_dl.npy\",  X_num_train)\n",
    "np.save(\"X_num_test_dl.npy\",   X_num_test)\n",
    "np.save(\"X_enc_train_dl.npy\",  X_encoded_train)\n",
    "np.save(\"X_enc_test_dl.npy\",   X_encoded_test)\n",
    "np.save(\"y_train_dl.npy\",      y_train_dl)\n",
    "np.save(\"y_test_dl.npy\",       y_test_dl)\n"
   ]
  },
  {
   "cell_type": "code",
   "execution_count": null,
   "id": "5b30b35b",
   "metadata": {},
   "outputs": [],
   "source": [
    "#proveri posebno za dl sto naprajv, na kraj vekje izgubiv koncentracija i mozno e da ima nekoi propusti"
   ]
  }
 ],
 "metadata": {
  "kernelspec": {
   "display_name": "base",
   "language": "python",
   "name": "python3"
  },
  "language_info": {
   "codemirror_mode": {
    "name": "ipython",
    "version": 3
   },
   "file_extension": ".py",
   "mimetype": "text/x-python",
   "name": "python",
   "nbconvert_exporter": "python",
   "pygments_lexer": "ipython3",
   "version": "3.12.7"
  }
 },
 "nbformat": 4,
 "nbformat_minor": 5
}
